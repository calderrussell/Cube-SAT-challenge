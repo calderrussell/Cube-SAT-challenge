{
 "cells": [
  {
   "cell_type": "code",
   "execution_count": 6,
   "id": "4e893afa",
   "metadata": {},
   "outputs": [],
   "source": [
    "import cv2\n",
    "import numpy as np\n",
    "import os"
   ]
  },
  {
   "cell_type": "code",
   "execution_count": 7,
   "id": "f08f49cc",
   "metadata": {},
   "outputs": [],
   "source": [
    "os.chdir(\"/home/csf/Cube-SAT-challenge\")\n",
    "#open source img file\n",
    "image = cv2.imread('OpenCVTEST.jpg', cv2.IMREAD_UNCHANGED)\n",
    "\n",
    "imS = cv2.resize(image, (960, 540))\n",
    "# #display image in new window\n",
    "cv2.imshow('Original', imS)"
   ]
  },
  {
   "cell_type": "code",
   "execution_count": 3,
   "id": "d49c7f07",
   "metadata": {},
   "outputs": [],
   "source": [
    "\n",
    "\n",
    "# hsv = cv2.cvtColor(image, cv2.COLOR_BGR2HSV)\n",
    "\n",
    "# low = 72, 106, 67\n",
    "# high = 219, 244, 204\n",
    "\n",
    "rgb_low = np.uint8([[[72, 106, 67]]])\n",
    "# hsv_low = cv2.cvtColor(rgb_low, cv2.COLOR_RGB2HSV)\n",
    "\n",
    "rgb_high = np.uint8([[[200, 244, 204]]])\n",
    "# hsv_high = cv2.cvtColor(rgb_high, cv2.COLOR_RGB2HSV)\n"
   ]
  },
  {
   "cell_type": "code",
   "execution_count": null,
   "id": "61d158e4",
   "metadata": {},
   "outputs": [],
   "source": [
    "\n",
    "r, g, b = cv2.split(image)\n",
    "r_ = cv2.resize(r, (960, 540))\n",
    "cv2.imshow(\"Red\", r_)\n",
    "g_ = cv2.resize(g, (960, 540))\n",
    "cv2.imshow(\"Green\", g_)\n",
    "b_ = cv2.resize(b, (960, 540))\n",
    "cv2.imshow(\"Blue\", b_)\n",
    "\n",
    "cv2.namedWindow(\"Trackbars\")\n",
    "\n",
    "def nothing(x):\n",
    "    pass\n",
    "\n",
    "#create trackbars for low val\n",
    "cv2.createTrackbar(\"R_low\", \"Trackbars\", 0, 255, nothing)\n",
    "cv2.createTrackbar(\"G_low\", \"Trackbars\", 0, 255, nothing)\n",
    "cv2.createTrackbar(\"B_low\", \"Trackbars\", 0, 255, nothing)\n",
    "\n",
    "#create trackbars for high val\n",
    "cv2.createTrackbar(\"R_high\", \"Trackbars\", 255, 255, nothing)\n",
    "cv2.createTrackbar(\"G_high\", \"Trackbars\", 255, 255, nothing)\n",
    "cv2.createTrackbar(\"B_high\", \"Trackbars\", 255, 255, nothing)\n",
    "\n",
    "while True:\n",
    "\n",
    "    #get current trackbar positions\n",
    "    r_low = cv2.getTrackbarPos(\"R_low\", \"Trackbars\")\n",
    "    g_low = cv2.getTrackbarPos(\"G_low\", \"Trackbars\")\n",
    "    b_low = cv2.getTrackbarPos(\"B_low\", \"Trackbars\")\n",
    "    r_high = cv2.getTrackbarPos(\"R_high\", \"Trackbars\")\n",
    "    g_high = cv2.getTrackbarPos(\"G_high\", \"Trackbars\")\n",
    "    b_high = cv2.getTrackbarPos(\"B_high\", \"Trackbars\")\n",
    "    \n",
    "    # create numpy arrays from bounds\n",
    "    lower_bound = np.array([r_low, g_low, b_low])\n",
    "    upper_bound = np.array([r_high, g_high, b_high])\n",
    "    \n",
    "    mask = cv2.inRange(image, lower_bound, upper_bound)\n",
    "    \n",
    "    resized_mask = cv2.resize(mask, (960, 540))\n",
    "    cv2.imshow('mask', resized_mask)\n",
    "    \n",
    "    if cv2.waitKey(0) or 0xFF == ord('q'):\n",
    "        break\n",
    "\n",
    "cv2.destroyAllWindows()\n",
    "    \n",
    "    \n",
    "\n",
    "# contours, _ = cv2.findContours(mask, cv2.RETR_EXTERNAL, cv2.CHAIN_APPROX_SIMPLE)\n",
    "\n",
    "# total_pixels = sum(cv2.contourArea(cnt) for cnt in contours)\n",
    "# print(\"total shirt pixels\", total_pixels)\n",
    "\n",
    "# resized_mask = cv2.resize(mask, (960, 540))\n",
    "# cv2.imshow('mask', resized_mask)\n",
    "\n",
    "# #escape condition\n",
    "# cv2.waitKey(0)\n",
    "\n",
    "# #clean up windows\n",
    "# cv2.destroyAllWindows()"
   ]
  },
  {
   "cell_type": "code",
   "execution_count": null,
   "id": "4b3d50fc",
   "metadata": {},
   "outputs": [
    {
     "name": "stdout",
     "output_type": "stream",
     "text": [
      "total shirt pixels 23053.0\n"
     ]
    }
   ],
   "source": [
    "\n",
    "low = np.array([0, 200, 200])\n",
    "high = np.array([30, 255, 255])\n",
    "\n",
    "mask = cv2.inRange(image, low, high)\n",
    "\n",
    "contours, _ = cv2.findContours(mask, cv2.RETR_EXTERNAL, cv2.CHAIN_APPROX_SIMPLE)\n",
    "\n",
    "total_pixels = sum(cv2.contourArea(cnt) for cnt in contours)\n",
    "print(\"total shirt pixels\", total_pixels)\n",
    "\n",
    "resized_mask = cv2.resize(mask, (960, 540))\n",
    "cv2.imshow('mask', resized_mask)\n",
    "\n",
    "#escape condition\n",
    "cv2.waitKey(0)\n",
    "\n",
    "#clean up windows\n",
    "cv2.destroyAllWindows()"
   ]
  },
  {
   "cell_type": "code",
   "execution_count": null,
   "id": "ad8b28b7",
   "metadata": {},
   "outputs": [],
   "source": []
  },
  {
   "cell_type": "code",
   "execution_count": null,
   "id": "f68a7b6b",
   "metadata": {},
   "outputs": [],
   "source": []
  }
 ],
 "metadata": {
  "kernelspec": {
   "display_name": "env",
   "language": "python",
   "name": "env"
  },
  "language_info": {
   "codemirror_mode": {
    "name": "ipython",
    "version": 3
   },
   "file_extension": ".py",
   "mimetype": "text/x-python",
   "name": "python",
   "nbconvert_exporter": "python",
   "pygments_lexer": "ipython3",
   "version": "3.11.2"
  }
 },
 "nbformat": 4,
 "nbformat_minor": 5
}
