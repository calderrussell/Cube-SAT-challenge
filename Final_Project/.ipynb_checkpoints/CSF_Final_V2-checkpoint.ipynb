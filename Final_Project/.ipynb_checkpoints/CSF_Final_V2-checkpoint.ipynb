{
 "cells": [
  {
   "cell_type": "code",
   "execution_count": 1,
   "id": "b5064eb0",
   "metadata": {},
   "outputs": [],
   "source": [
    "import cv2 as cv\n",
    "import os\n",
    "import numpy as np\n",
    "import matplotlib.pyplot as plt\n",
    "from git import Repo\n",
    "import time\n",
    "from picamera2 import Picamera2"
   ]
  },
  {
   "cell_type": "code",
   "execution_count": 2,
   "id": "697c37fe",
   "metadata": {},
   "outputs": [
    {
     "name": "stderr",
     "output_type": "stream",
     "text": [
      "[2:21:34.758716045] [5906] \u001b[1;32m INFO \u001b[1;37mCamera \u001b[1;34mcamera_manager.cpp:327 \u001b[0mlibcamera v0.4.0+53-29156679\n",
      "[2:21:34.789210105] [5931] \u001b[1;33m WARN \u001b[1;37mRPiSdn \u001b[1;34msdn.cpp:40 \u001b[0mUsing legacy SDN tuning - please consider moving SDN inside rpi.denoise\n",
      "[2:21:34.791257964] [5931] \u001b[1;32m INFO \u001b[1;37mRPI \u001b[1;34mvc4.cpp:447 \u001b[0mRegistered camera /base/soc/i2c0mux/i2c@1/imx708@1a to Unicam device /dev/media0 and ISP device /dev/media1\n",
      "[2:21:34.791319054] [5931] \u001b[1;32m INFO \u001b[1;37mRPI \u001b[1;34mpipeline_base.cpp:1121 \u001b[0mUsing configuration file '/usr/share/libcamera/pipeline/rpi/vc4/rpi_apps.yaml'\n"
     ]
    }
   ],
   "source": [
    "REPO_PATH = \"/home/csf/Cube-SAT-challenge\"     #Your github repo path: ex. /home/pi/FlatSatChallenge\n",
    "FOLDER_PATH = \"/Final_Project/Images\"   #Your image folder path in your GitHub repo: ex. /Images\n",
    "\n",
    "picam2 = Picamera2()"
   ]
  },
  {
   "cell_type": "code",
   "execution_count": 3,
   "id": "741f1507",
   "metadata": {},
   "outputs": [],
   "source": [
    "def git_push():\n",
    "    \"\"\"\n",
    "    This function is complete. Stages, commits, and pushes new images to your GitHub repo.\n",
    "    \"\"\"\n",
    "    try:\n",
    "        repo = Repo(REPO_PATH)\n",
    "        origin = repo.remote('origin')\n",
    "        print('added remote')\n",
    "        origin.pull()\n",
    "        print('pulled changes')\n",
    "        repo.git.add(REPO_PATH + FOLDER_PATH)\n",
    "        repo.index.commit('New Photo')\n",
    "        print('made the commit')\n",
    "        origin.push()\n",
    "        print('pushed changes')\n",
    "    except:\n",
    "        print('Couldn\\'t upload to git')\n"
   ]
  },
  {
   "cell_type": "code",
   "execution_count": 4,
   "id": "d81458fb",
   "metadata": {},
   "outputs": [],
   "source": [
    "def img_gen(name):\n",
    "    \"\"\"\n",
    "    This function is complete. Generates a new image name.\n",
    "\n",
    "    Parameters:\n",
    "        name (str): your name ex. MasonM\n",
    "    \"\"\"\n",
    "    t = time.strftime(\"_%H%M%S\")\n",
    "    imgname = (f'{REPO_PATH}/{FOLDER_PATH}/{name}{t}.jpg')\n",
    "    \n",
    "    print(\"Image named\")\n",
    "    \n",
    "    return imgname\n"
   ]
  },
  {
   "cell_type": "code",
   "execution_count": 5,
   "id": "959aa0e8",
   "metadata": {},
   "outputs": [],
   "source": [
    "def take_photo():\n",
    "    name = \"CSF\"  # Replace with your actual name (e.g., \"MasonM\")\n",
    "    \n",
    "    # Generate image name\n",
    "    img_path = img_gen(name)\n",
    "\n",
    "    # Take a photo\n",
    "    picam2.start_and_capture_file(img_path)\n",
    "    print(f\"Photo saved: {img_path}\")\n",
    "\n",
    "    # Push the photo to GitHub\n",
    "    # git_push()\n",
    "    \n",
    "    return img_path"
   ]
  },
  {
   "cell_type": "code",
   "execution_count": 6,
   "id": "c2797ef1",
   "metadata": {},
   "outputs": [],
   "source": [
    "def getImageRGBAndHSV(img_path):\n",
    "\n",
    "    #open image\n",
    "    img = cv.imread(img_path)\n",
    "    \n",
    "    #convert to RGB and HSV\n",
    "    imgRGB = cv.cvtColor(img, cv.COLOR_BGR2RGB)\n",
    "    hsv = cv.cvtColor(img, cv.COLOR_BGR2HSV)\n",
    "    \n",
    "    print(\"RGB and HSV images created\")\n",
    "    \n",
    "    return img, imgRGB, hsv\n"
   ]
  },
  {
   "cell_type": "code",
   "execution_count": 7,
   "id": "e3c2ffb7",
   "metadata": {},
   "outputs": [],
   "source": [
    "def createMask(img, hsv, lowerBound, upperBound):\n",
    "\n",
    "    #create mask\n",
    "#      lowerBound = np.array([40,30,40])\n",
    "#     upperBound = np.array([70,255,255])\n",
    "#     for green shirt\n",
    " \n",
    "    mask = cv.inRange(hsv, lowerBound, upperBound)\n",
    "    \n",
    "    #create masked image\n",
    "    masked_img = cv.bitwise_and(img, img, mask=mask)\n",
    "    \n",
    "    print(\"Mask created\")\n",
    "    \n",
    "    return mask, masked_img\n"
   ]
  },
  {
   "cell_type": "code",
   "execution_count": 8,
   "id": "92cad1d1",
   "metadata": {},
   "outputs": [],
   "source": [
    "def analyzeMask(mask):\n",
    "    \n",
    "    #create contours\n",
    "    contours, hierarchy = cv.findContours(mask, cv.RETR_EXTERNAL, cv.CHAIN_APPROX_SIMPLE)\n",
    "    \n",
    "    #find largest contour\n",
    "    largest_contour = max(contours, key=cv.contourArea)\n",
    "\n",
    "    #EDIT THIS TO FIND AREA OF ALL CONTOURS COMBINED\n",
    "    \n",
    "    #get its area\n",
    "    area = cv.contourArea(largest_contour)\n",
    "    print(\"Mask area is\", area)\n",
    "\n"
   ]
  },
  {
   "cell_type": "code",
   "execution_count": 9,
   "id": "36d1c937",
   "metadata": {},
   "outputs": [],
   "source": [
    "def showImages(imgRGB, masked_img):\n",
    "    #show original image\n",
    "    plt.figure()\n",
    "    plt.imshow(imgRGB)\n",
    "    plt.show()\n",
    "\n",
    "    #show masked image\n",
    "    cv.imshow(\"masked_img\", masked_img)\n",
    "    cv.waitKey(0)\n"
   ]
  },
  {
   "cell_type": "code",
   "execution_count": 10,
   "id": "39c41105",
   "metadata": {},
   "outputs": [],
   "source": [
    "def main():\n",
    "    #take image\n",
    "    img_name = take_photo()\n",
    "    \n",
    "    #makes objects for the original image, RGB, and HSV\n",
    "    image, RGB_image, HSV_image = getImageRGBAndHSV(img_name)\n",
    "    \n",
    "    #create mask and mask combined with image \n",
    "    lowerBound = np.array([40,30,40])\n",
    "    upperBound = np.array([70,255,255])\n",
    "    mask, masked_img = createMask(image, HSV_image, lowerBound, upperBound)\n",
    "    \n",
    "    #get information on the affected area\n",
    "    analyzeMask(mask)\n",
    "    \n",
    "    # display images\n",
    "    showImages(RGB_image, masked_img)"
   ]
  },
  {
   "cell_type": "code",
   "execution_count": null,
   "id": "a6c4cc14",
   "metadata": {},
   "outputs": [
    {
     "name": "stderr",
     "output_type": "stream",
     "text": [
      "[2:21:34.986364755] [5906] \u001b[1;32m INFO \u001b[1;37mCamera \u001b[1;34mcamera.cpp:1202 \u001b[0mconfiguring streams: (0) 640x480-XBGR8888 (1) 1536x864-SBGGR10_CSI2P\n"
     ]
    },
    {
     "name": "stdout",
     "output_type": "stream",
     "text": [
      "Image named\n"
     ]
    },
    {
     "name": "stderr",
     "output_type": "stream",
     "text": [
      "[2:21:34.989586446] [5931] \u001b[1;32m INFO \u001b[1;37mRPI \u001b[1;34mvc4.cpp:622 \u001b[0mSensor: /base/soc/i2c0mux/i2c@1/imx708@1a - Selected sensor format: 1536x864-SBGGR10_1X10 - Selected unicam format: 1536x864-pBAA\n"
     ]
    }
   ],
   "source": [
    "main()"
   ]
  },
  {
   "cell_type": "code",
   "execution_count": null,
   "id": "496086f0",
   "metadata": {},
   "outputs": [],
   "source": []
  }
 ],
 "metadata": {
  "kernelspec": {
   "display_name": "env",
   "language": "python",
   "name": "env"
  },
  "language_info": {
   "codemirror_mode": {
    "name": "ipython",
    "version": 3
   },
   "file_extension": ".py",
   "mimetype": "text/x-python",
   "name": "python",
   "nbconvert_exporter": "python",
   "pygments_lexer": "ipython3",
   "version": "3.11.2"
  }
 },
 "nbformat": 4,
 "nbformat_minor": 5
}
